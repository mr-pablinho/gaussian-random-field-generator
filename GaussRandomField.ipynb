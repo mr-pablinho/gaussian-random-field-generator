{
  "nbformat": 4,
  "nbformat_minor": 0,
  "metadata": {
    "colab": {
      "name": "GaussRandomField.ipynb",
      "provenance": [],
      "collapsed_sections": [],
      "authorship_tag": "ABX9TyMSQqoSY7LzPOOq/oqMkhGV",
      "include_colab_link": true
    },
    "kernelspec": {
      "name": "python3",
      "display_name": "Python 3"
    },
    "language_info": {
      "name": "python"
    }
  },
  "cells": [
    {
      "cell_type": "markdown",
      "metadata": {
        "id": "view-in-github",
        "colab_type": "text"
      },
      "source": [
        "<a href=\"https://colab.research.google.com/github/mr-pablinho/gaussian_random_fields/blob/main/GaussRandomField.ipynb\" target=\"_parent\"><img src=\"https://colab.research.google.com/assets/colab-badge.svg\" alt=\"Open In Colab\"/></a>"
      ]
    },
    {
      "cell_type": "markdown",
      "source": [
        "# **Gaussian random field generator using Cholesky decomposition**\n",
        "\n",
        "\n",
        "---\n",
        "\n",
        "\n",
        "\n",
        "*Created on Thu Dec 23 13:53:50 2021\\\n",
        "Last update on Sun Mar 27 15:50:29 2022\\\n",
        "@author: Pablo Merchán-Rivera* 👻\n",
        "\n",
        "\n",
        "\n",
        "---\n",
        "\n",
        "\n",
        "\n",
        "Gaussian random fields are useful in many practical applications. For instance, hydrogeology and material sciences. I am sure there is a script out there but I was not able to find it. So, I created this one. \n",
        "\n",
        "As the name shows, a Gaussian random field is a random field involving Gaussian (a.k.a. Normal distributed) probability density functions of the variables. \n",
        "\n",
        "This Jupyter notebook can be used by anyone to understand what is going on, and also collaborate to optimize, correct and include new algorithms. Please, let me know if you find mistakes or you have any feedback."
      ],
      "metadata": {
        "id": "UQ7rWmr-pSED"
      }
    },
    {
      "cell_type": "markdown",
      "source": [
        "## Import libraries"
      ],
      "metadata": {
        "id": "piD-C3XoridU"
      }
    },
    {
      "cell_type": "code",
      "source": [
        "!pip install chaospy\n",
        "import chaospy as cp\n",
        "import numpy as np\n",
        "import matplotlib.pyplot as plt"
      ],
      "metadata": {
        "colab": {
          "base_uri": "https://localhost:8080/"
        },
        "id": "LIHkalwaqH19",
        "outputId": "58ab5425-54db-4fe7-f37c-4aacad04b838"
      },
      "execution_count": 1,
      "outputs": [
        {
          "output_type": "stream",
          "name": "stdout",
          "text": [
            "Collecting chaospy\n",
            "  Downloading chaospy-4.3.7-py3-none-any.whl (247 kB)\n",
            "\u001b[K     |████████████████████████████████| 247 kB 14.0 MB/s \n",
            "\u001b[?25hCollecting numpoly\n",
            "  Downloading numpoly-1.2.3-py3-none-any.whl (147 kB)\n",
            "\u001b[K     |████████████████████████████████| 147 kB 43.6 MB/s \n",
            "\u001b[?25hRequirement already satisfied: scipy in /usr/local/lib/python3.7/dist-packages (from chaospy) (1.4.1)\n",
            "Requirement already satisfied: numpy in /usr/local/lib/python3.7/dist-packages (from chaospy) (1.21.5)\n",
            "Installing collected packages: numpoly, chaospy\n",
            "Successfully installed chaospy-4.3.7 numpoly-1.2.3\n"
          ]
        }
      ]
    },
    {
      "cell_type": "markdown",
      "source": [
        "## Generate random field\n",
        "\n",
        "### Cholesky decomposition\n",
        "The idea behind Cholesky decomposition is to factorize a Hermitian, positive-definite matrix into the product of its transpose and a lower triangular matrix. It is a powerful tool in algebra because it improves the efficiency to get numerical solutions.\n",
        "\n"
      ],
      "metadata": {
        "id": "RW-aZ5vjrpNl"
      }
    },
    {
      "cell_type": "code",
      "execution_count": 20,
      "metadata": {
        "id": "GUCqun_pm0XV"
      },
      "outputs": [],
      "source": [
        "def random_field(Nx, Ny, mu, sigma, corr_x=1, corr_y=1, cov_function='exponential', verbose=False):\n",
        "    \n",
        "    # print message\n",
        "    print('Creating random field (%dx%d)... ' % (Nx, Ny))\n",
        "    \n",
        "    x_min, x_max, y_min, y_max = 0.0, 1*Nx, 0.0, 1*Ny\n",
        "    mesh_size_x, mesh_size_y = Nx, Ny\n",
        "\n",
        "    start_x, stop_x, step_x = x_min + x_max/(2*mesh_size_x), x_max, (x_max - x_min)/mesh_size_x\n",
        "    start_y, stop_y, step_y = y_min + y_max/(2*mesh_size_y), y_max, (y_max - y_min)/mesh_size_y \n",
        "    \n",
        "    x_coord = np.arange(start_x, stop_x, step_x)\n",
        "    y_coord = np.arange(start_y, stop_y, step_y)\n",
        "    \n",
        "    if verbose == True:\n",
        "        message_random_field(start_x, stop_x, step_x, x_coord, start_y, stop_y, step_y, y_coord)\n",
        "    \n",
        "    mesh_coord = [None] * (Nx*Ny)\n",
        "    ii = 0\n",
        "    for i in range(mesh_size_x):\n",
        "        for j in range(mesh_size_y):\n",
        "            mesh_coord[ii] = x_coord[i], y_coord[j]\n",
        "            ii += 1\n",
        "\n",
        "    C1 = np.zeros(shape=(Nx*Ny, Nx*Ny))\n",
        "\n",
        "    for i in range(Nx*Ny):\n",
        "        for j in range(Nx*Ny):\n",
        "          if cov_function == 'exponential':\n",
        "            C1[i, j] = c1(mesh_coord[i], mesh_coord[j], corr_x, corr_y)\n",
        "            C1[i, i] += 1E-7 \n",
        "          elif cov_function == 'squared exponential':\n",
        "            C1[i, j] = c2(mesh_coord[i], mesh_coord[j], corr_x, corr_y)\n",
        "            C1[i, i] += 1E-7\n",
        "          else:\n",
        "            print('Error: define the correct function!\\n \"exponential\" or \"squared exponential\"')\n",
        "\n",
        "\n",
        "    # perform Cholesky decomposition\n",
        "    L1 = np.linalg.cholesky(C1)\n",
        "      \n",
        "    print('Creating gaussian random field (mu=%.3f, sigma=%.3f)' % (mu, sigma))\n",
        "    \n",
        "    dist = cp.Normal(0, sigma).sample((Nx*Ny))\n",
        "    np.random.shuffle(dist)\n",
        "    G1 = mu + np.matmul(L1, dist)\n",
        "    foo = np.reshape(G1, (Nx,Ny)).T\n",
        "\n",
        "    return foo"
      ]
    },
    {
      "cell_type": "markdown",
      "source": [
        "## Covariance functions\n",
        "\n",
        "This function computes the spatial covariance of a random field. It can be exponential or squared exponential, depending on the output of interest. \n",
        "\n",
        "The squared exponential will create a smoother surface. "
      ],
      "metadata": {
        "id": "iGkBPZdPufWK"
      }
    },
    {
      "cell_type": "code",
      "source": [
        "# exponential \n",
        "def c1(x, y, corr_x, corr_y):\n",
        "    d = (((x[0] - y[0])/corr_x) * ((x[0] - y[0])/corr_x)) + (((x[1] - y[1])/corr_y) * ((x[1] - y[1])/corr_y))\n",
        "    return np.exp(-(np.sqrt(d)))\n",
        "\n",
        "# squared exponential\n",
        "def c2(x, y, corr_x, corr_y):\n",
        "    d = (((x[0] - y[0])/corr_x) * ((x[0] - y[0])/corr_x)) + (((x[1] - y[1])/corr_y) * ((x[1] - y[1])/corr_y))\n",
        "    return np.exp(-d * 0.5)\n"
      ],
      "metadata": {
        "id": "76WFdI_uuWhq"
      },
      "execution_count": 21,
      "outputs": []
    },
    {
      "cell_type": "markdown",
      "source": [
        "Just a message to observe the spatial discretization."
      ],
      "metadata": {
        "id": "1FQ1L6oEvrce"
      }
    },
    {
      "cell_type": "code",
      "source": [
        "# verbose message\n",
        "def message_random_field(start_x, stop_x, step_x, x_coord, start_y, stop_y, step_y, y_coord):\n",
        "    print('Mesh for random field:')\n",
        "    print('x-coord -->  start: %.3f, stop: %.3f, step: %.3f, length:%.3f' % (start_x, stop_x, step_x, len(x_coord)))\n",
        "    print('y-coord -->  start: %.3f, stop: %.3f, step: %.3f, length:%.3f' % (start_y, stop_y, step_y, len(y_coord)))\n",
        "    print('---'*10)\n",
        "    print('x-coord array --> %s' % (x_coord))\n",
        "    print('y-coord array --> %s' % (y_coord))"
      ],
      "metadata": {
        "id": "P1P-PtdUvli9"
      },
      "execution_count": 22,
      "outputs": []
    },
    {
      "cell_type": "markdown",
      "source": [
        "## Field parameters\n",
        "\n",
        "Define the parameters for the generation of the field. \n",
        "\n",
        "Notice that the mean (mu) and the standard deviation (sigma) that describe the gaussian probaility are in logarithmic scale."
      ],
      "metadata": {
        "id": "dGdVFZAqyStk"
      }
    },
    {
      "cell_type": "code",
      "source": [
        "# Example:\n",
        "Nx = 30\n",
        "Ny = 30\n",
        "\n",
        "# hydraulic conductivity field\n",
        "np.random.seed(seed=1234) # random seed\n",
        "mu, sigma = -3, .5  # mean and standard deviation\n",
        "dist_type = 'Gaussian'  # distribution type\n",
        "corr_x = 6  # correlation in x\n",
        "corr_y = 6  # correlation in y\n",
        "cov_function = 'exponential'  # covariance function type (exponential, squared exponential or both)\n",
        "\n",
        "# compute field (exponential covariance function)\n",
        "field_exponential = random_field(Nx, Ny,\n",
        "                                 mu, sigma, \n",
        "                                 corr_x=corr_x, corr_y=corr_y, \n",
        "                                 cov_function='exponential', \n",
        "                                 verbose=False)\n",
        "\n",
        "# compute field (exponential covariance function)\n",
        "field_sqexponential = random_field(Nx, Ny, \n",
        "                                   mu, sigma, \n",
        "                                   corr_x=corr_x, corr_y=corr_y,\n",
        "                                   cov_function='squared exponential', \n",
        "                                   verbose=False)\n",
        "\n"
      ],
      "metadata": {
        "colab": {
          "base_uri": "https://localhost:8080/"
        },
        "id": "Thna22SMv5l0",
        "outputId": "0028b796-5b47-4d1b-95c6-4467bad6ed2c"
      },
      "execution_count": 25,
      "outputs": [
        {
          "output_type": "stream",
          "name": "stdout",
          "text": [
            "Creating random field (30x30)... \n",
            "Creating gaussian random field (mu=-3.000, sigma=0.500)\n",
            "Creating random field (30x30)... \n",
            "Creating gaussian random field (mu=-3.000, sigma=0.500)\n"
          ]
        }
      ]
    },
    {
      "cell_type": "markdown",
      "source": [
        "## Plot results"
      ],
      "metadata": {
        "id": "e_ntykkpyyks"
      }
    },
    {
      "cell_type": "code",
      "source": [
        "plt.figure('Exponential')\n",
        "plt.imshow(field_exponential, cmap='rainbow')\n",
        "plt.title('Gaussian random field with \\nexponential covariance function')\n",
        "plt.colorbar()\n",
        "\n",
        "plt.figure('Squared exponential')\n",
        "plt.imshow(field_sqexponential, cmap='rainbow')\n",
        "plt.title('Gaussian random field with \\nsquared exponential covariance function')\n",
        "plt.colorbar()"
      ],
      "metadata": {
        "colab": {
          "base_uri": "https://localhost:8080/",
          "height": 592
        },
        "id": "QPOiw9lVyw9x",
        "outputId": "00a6ae95-5386-477a-f1d9-31ffa71d9472"
      },
      "execution_count": 28,
      "outputs": [
        {
          "output_type": "execute_result",
          "data": {
            "text/plain": [
              "<matplotlib.colorbar.Colorbar at 0x7f8c2b61f4d0>"
            ]
          },
          "metadata": {},
          "execution_count": 28
        },
        {
          "output_type": "display_data",
          "data": {
            "text/plain": [
              "<Figure size 432x288 with 2 Axes>"
            ],
            "image/png": "[encoded data removed]"
          },
          "metadata": {
            "needs_background": "light"
          }
        },
        {
          "output_type": "display_data",
          "data": {
            "text/plain": [
              "<Figure size 432x288 with 2 Axes>"
            ],
            "image/png": "[encoded data removed]"
          },
          "metadata": {
            "needs_background": "light"
          }
        }
      ]
    }
  ]
}